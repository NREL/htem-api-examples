{
 "cells": [
  {
   "cell_type": "markdown",
   "metadata": {},
   "source": [
    "### Notebook 5: Optical Measurements Plotting\n",
    "This notebook shows how one might go about plotting optical measurements data, including the ultraviolet reflectance, ultraviolet transmittance, near-infrared reflectance, and near-infrared transmittance. Later on, direct and indirect Tauc plots may be generated based on these measurements in addition to the thickness data collected from x-ray fluorescence. The band gaps are generated from analyses made along these indirect and direct Tauc plots."
   ]
  },
  {
   "cell_type": "code",
   "execution_count": 1,
   "metadata": {
    "collapsed": false
   },
   "outputs": [],
   "source": [
    "import sys\n",
    "import pandas as pd\n",
    "sys.path.append('../lib')\n",
    "#Note: When working in Windows environments, use:\n",
    "#sys.path.append('..\\lib')\n",
    "from library import Library\n",
    "from sample import Sample\n",
    "import matplotlib.pyplot as plt\n",
    "import pandas as pd\n",
    "import numpy as np\n",
    "import seaborn as sns\n",
    "color = sns.color_palette()\n",
    "\n",
    "%matplotlib inline"
   ]
  },
  {
   "cell_type": "markdown",
   "metadata": {},
   "source": [
    "After the proper modules have been imported, we use the Sample class to take a particular sample that has a complete spectrum of ultraviolet transmittance/reflectance and near-infrared transmittance/reflectance. Note that the near-infrared transmittance/reflectance spectra are much shorter than the ultraviolet spectra, so the DataFrame for all the optical spectra is padded with nulls. It is therefore necessary to remove these nulls using the pd.dropna() command."
   ]
  },
  {
   "cell_type": "code",
   "execution_count": 2,
   "metadata": {
    "collapsed": false
   },
   "outputs": [
    {
     "ename": "TypeError",
     "evalue": "'NoneType' object has no attribute '__getitem__'",
     "output_type": "error",
     "traceback": [
      "\u001b[0;31m---------------------------------------------------------------------------\u001b[0m",
      "\u001b[0;31mTypeError\u001b[0m                                 Traceback (most recent call last)",
      "\u001b[0;32m<ipython-input-2-7840dfe9260c>\u001b[0m in \u001b[0;36m<module>\u001b[0;34m()\u001b[0m\n\u001b[0;32m----> 1\u001b[0;31m \u001b[0moptical_spectra\u001b[0m \u001b[0;34m=\u001b[0m \u001b[0mSample\u001b[0m\u001b[0;34m(\u001b[0m\u001b[0;36m221101\u001b[0m\u001b[0;34m)\u001b[0m\u001b[0;34m.\u001b[0m\u001b[0mspectra\u001b[0m\u001b[0;34m(\u001b[0m\u001b[0;34m'optical'\u001b[0m\u001b[0;34m)\u001b[0m\u001b[0;34m\u001b[0m\u001b[0m\n\u001b[0m\u001b[1;32m      2\u001b[0m \u001b[0muvit\u001b[0m \u001b[0;34m=\u001b[0m \u001b[0msorted\u001b[0m\u001b[0;34m(\u001b[0m\u001b[0mzip\u001b[0m\u001b[0;34m(\u001b[0m\u001b[0mlist\u001b[0m\u001b[0;34m(\u001b[0m\u001b[0moptical_spectra\u001b[0m\u001b[0;34m.\u001b[0m\u001b[0muvit_wave\u001b[0m\u001b[0;34m)\u001b[0m\u001b[0;34m,\u001b[0m\u001b[0mlist\u001b[0m\u001b[0;34m(\u001b[0m\u001b[0moptical_spectra\u001b[0m\u001b[0;34m.\u001b[0m\u001b[0muvit_response\u001b[0m\u001b[0;34m)\u001b[0m\u001b[0;34m)\u001b[0m\u001b[0;34m)\u001b[0m\u001b[0;34m\u001b[0m\u001b[0m\n\u001b[1;32m      3\u001b[0m \u001b[0muvir\u001b[0m \u001b[0;34m=\u001b[0m \u001b[0msorted\u001b[0m\u001b[0;34m(\u001b[0m\u001b[0mzip\u001b[0m\u001b[0;34m(\u001b[0m\u001b[0mlist\u001b[0m\u001b[0;34m(\u001b[0m\u001b[0moptical_spectra\u001b[0m\u001b[0;34m.\u001b[0m\u001b[0muvir_wave\u001b[0m\u001b[0;34m)\u001b[0m\u001b[0;34m,\u001b[0m\u001b[0mlist\u001b[0m\u001b[0;34m(\u001b[0m\u001b[0moptical_spectra\u001b[0m\u001b[0;34m.\u001b[0m\u001b[0muvir_response\u001b[0m\u001b[0;34m)\u001b[0m\u001b[0;34m)\u001b[0m\u001b[0;34m)\u001b[0m\u001b[0;34m\u001b[0m\u001b[0m\n\u001b[1;32m      4\u001b[0m \u001b[0mnirt\u001b[0m \u001b[0;34m=\u001b[0m \u001b[0msorted\u001b[0m\u001b[0;34m(\u001b[0m\u001b[0mzip\u001b[0m\u001b[0;34m(\u001b[0m\u001b[0mlist\u001b[0m\u001b[0;34m(\u001b[0m\u001b[0moptical_spectra\u001b[0m\u001b[0;34m.\u001b[0m\u001b[0mnirt_wave\u001b[0m\u001b[0;34m.\u001b[0m\u001b[0mdropna\u001b[0m\u001b[0;34m(\u001b[0m\u001b[0;34m)\u001b[0m\u001b[0;34m)\u001b[0m\u001b[0;34m,\u001b[0m\u001b[0mlist\u001b[0m\u001b[0;34m(\u001b[0m\u001b[0moptical_spectra\u001b[0m\u001b[0;34m.\u001b[0m\u001b[0mnirt_response\u001b[0m\u001b[0;34m.\u001b[0m\u001b[0mdropna\u001b[0m\u001b[0;34m(\u001b[0m\u001b[0;34m)\u001b[0m\u001b[0;34m)\u001b[0m\u001b[0;34m)\u001b[0m\u001b[0;34m)\u001b[0m\u001b[0;34m\u001b[0m\u001b[0m\n\u001b[1;32m      5\u001b[0m \u001b[0mnirr\u001b[0m \u001b[0;34m=\u001b[0m \u001b[0msorted\u001b[0m\u001b[0;34m(\u001b[0m\u001b[0mzip\u001b[0m\u001b[0;34m(\u001b[0m\u001b[0mlist\u001b[0m\u001b[0;34m(\u001b[0m\u001b[0moptical_spectra\u001b[0m\u001b[0;34m.\u001b[0m\u001b[0mnirr_wave\u001b[0m\u001b[0;34m.\u001b[0m\u001b[0mdropna\u001b[0m\u001b[0;34m(\u001b[0m\u001b[0;34m)\u001b[0m\u001b[0;34m)\u001b[0m\u001b[0;34m,\u001b[0m\u001b[0mlist\u001b[0m\u001b[0;34m(\u001b[0m\u001b[0moptical_spectra\u001b[0m\u001b[0;34m.\u001b[0m\u001b[0mnirr_response\u001b[0m\u001b[0;34m.\u001b[0m\u001b[0mdropna\u001b[0m\u001b[0;34m(\u001b[0m\u001b[0;34m)\u001b[0m\u001b[0;34m)\u001b[0m\u001b[0;34m)\u001b[0m\u001b[0;34m)\u001b[0m\u001b[0;34m\u001b[0m\u001b[0m\n",
      "\u001b[0;32m/Users/mschwart/htem-api-examples/lib/sample.pyc\u001b[0m in \u001b[0;36mspectra\u001b[0;34m(self, which)\u001b[0m\n\u001b[1;32m     48\u001b[0m             \u001b[0muvit_df\u001b[0m \u001b[0;34m=\u001b[0m \u001b[0mpd\u001b[0m\u001b[0;34m.\u001b[0m\u001b[0mDataFrame\u001b[0m\u001b[0;34m(\u001b[0m\u001b[0;34m)\u001b[0m\u001b[0;34m\u001b[0m\u001b[0m\n\u001b[1;32m     49\u001b[0m             \u001b[0;32mtry\u001b[0m\u001b[0;34m:\u001b[0m\u001b[0;34m\u001b[0m\u001b[0m\n\u001b[0;32m---> 50\u001b[0;31m                 \u001b[0muvit_df\u001b[0m\u001b[0;34m[\u001b[0m\u001b[0;34m'uvit_wave'\u001b[0m\u001b[0;34m]\u001b[0m \u001b[0;34m=\u001b[0m \u001b[0mdata\u001b[0m\u001b[0;34m[\u001b[0m\u001b[0;34m'oo'\u001b[0m\u001b[0;34m]\u001b[0m\u001b[0;34m[\u001b[0m\u001b[0;34m'uvit'\u001b[0m\u001b[0;34m]\u001b[0m\u001b[0;34m[\u001b[0m\u001b[0;34m'wavelength'\u001b[0m\u001b[0;34m]\u001b[0m\u001b[0;34m\u001b[0m\u001b[0m\n\u001b[0m\u001b[1;32m     51\u001b[0m                 \u001b[0muvit_df\u001b[0m\u001b[0;34m[\u001b[0m\u001b[0;34m'uvit_response'\u001b[0m\u001b[0;34m]\u001b[0m \u001b[0;34m=\u001b[0m \u001b[0mdata\u001b[0m\u001b[0;34m[\u001b[0m\u001b[0;34m'oo'\u001b[0m\u001b[0;34m]\u001b[0m\u001b[0;34m[\u001b[0m\u001b[0;34m'uvit'\u001b[0m\u001b[0;34m]\u001b[0m\u001b[0;34m[\u001b[0m\u001b[0;34m'response'\u001b[0m\u001b[0;34m]\u001b[0m\u001b[0;34m\u001b[0m\u001b[0m\n\u001b[1;32m     52\u001b[0m             \u001b[0;32mexcept\u001b[0m \u001b[0mKeyError\u001b[0m\u001b[0;34m:\u001b[0m \u001b[0;31m#No uvit available\u001b[0m\u001b[0;34m\u001b[0m\u001b[0m\n",
      "\u001b[0;31mTypeError\u001b[0m: 'NoneType' object has no attribute '__getitem__'"
     ]
    }
   ],
   "source": [
    "optical_spectra = Sample(221101).spectra('optical')\n",
    "uvit = sorted(zip(list(optical_spectra.uvit_wave),list(optical_spectra.uvit_response)))\n",
    "uvir = sorted(zip(list(optical_spectra.uvir_wave),list(optical_spectra.uvir_response)))\n",
    "nirt = sorted(zip(list(optical_spectra.nirt_wave.dropna()),list(optical_spectra.nirt_response.dropna())))\n",
    "nirr = sorted(zip(list(optical_spectra.nirr_wave.dropna()),list(optical_spectra.nirr_response.dropna())))"
   ]
  },
  {
   "cell_type": "markdown",
   "metadata": {},
   "source": [
    "The first step is to do a basic plotting of each of the transmittance/reflectance spectra. Note that the tails on each of the spectra tend to produce much noisier data. It may be necessary in some cases to smooth or eliminate these tails before proceeding."
   ]
  },
  {
   "cell_type": "code",
   "execution_count": null,
   "metadata": {
    "collapsed": false
   },
   "outputs": [],
   "source": [
    "plt.figure(figsize = (10,6))\n",
    "plt.title('UVIT Spectra for Sample 209139')\n",
    "plt.xlabel('Wavelength (nm)')\n",
    "plt.ylabel('Transmittance')\n",
    "plt.plot([i[0] for i in uvit],[i[1] for i in uvit])\n",
    "plt.show()\n",
    "\n",
    "plt.figure(figsize = (10,6))\n",
    "plt.title('UVIR Spectra for Sample 209139')\n",
    "plt.xlabel('Wavelength (nm)')\n",
    "plt.ylabel('Reflectance')\n",
    "plt.plot([i[0] for i in uvir],[i[1] for i in uvir])\n",
    "plt.show()\n",
    "\n",
    "plt.figure(figsize = (10,6))\n",
    "plt.title('NIRT Spectra for Sample 209139')\n",
    "plt.xlabel('Wavelength (nm)')\n",
    "plt.ylabel('Transmittance')\n",
    "plt.plot([i[0] for i in nirt],[i[1] for i in nirt])\n",
    "plt.show()\n",
    "\n",
    "plt.figure(figsize = (10,6))\n",
    "plt.title('NIRR Spectra for Sample 209139')\n",
    "plt.xlabel('Wavelength (nm)')\n",
    "plt.ylabel('Reflectance')\n",
    "plt.plot([i[0] for i in nirr],[i[1] for i in nirr])\n",
    "plt.show()"
   ]
  },
  {
   "cell_type": "markdown",
   "metadata": {},
   "source": [
    "The code below takes care of all the manipulations necessary to generate Tauc plots. First the absorption coefficient is calculated, then the direct and indirect absorbances are calculated. The energy is a direct function of the wavelengh the measurement was taken at. The Tauc analysis compares the energy with the direct/indirect absorbances. The direct/indirect band gap is estimated about the first large \"impulse\", or sharp increase in direct/indirect absorbance. Using a rough linear approximation, one see how well the experimental Tauc plots line up with the band gap algorithm's approximation for the band gap."
   ]
  },
  {
   "cell_type": "code",
   "execution_count": null,
   "metadata": {
    "collapsed": false
   },
   "outputs": [],
   "source": [
    "#Absorption coefficient\n",
    "thickness = float(Sample(209139).properties().thickness)\n",
    "transmittance = sorted(uvit+nirt)\n",
    "reflectance = sorted(uvir+nirr)\n",
    "absorption_coefficient = []\n",
    "for i in range(0,len(transmittance)): #Equation for absorption coefficient\n",
    "    absorption_coefficient.append(-1*np.log(abs(transmittance[i][1]/(1-reflectance[i][1])))/float(thickness*10**-4))\n",
    "energy = [1240.0/i[0] for i in transmittance]\n",
    "\n",
    "direct_absorbance = []\n",
    "indirect_absorbance = []\n",
    "for i in range(0,len(energy)):\n",
    "    direct_absorbance.append((absorption_coefficient[i]**2)*(energy[i]**2))\n",
    "    indirect_absorbance.append((abs(absorption_coefficient[i])**0.5)*(energy[i]**0.5))\n",
    "normalized_direct_absorbance = [i/max(direct_absorbance) for i in direct_absorbance]\n",
    "normalized_indirect_absorbance = [i/max(indirect_absorbance) for i in indirect_absorbance]\n",
    "plt.figure()\n",
    "plt.plot(energy,normalized_direct_absorbance)\n",
    "plt.xlabel('Energy (eV)')\n",
    "plt.ylabel('Normalized Direct Absorbance')\n",
    "plt.title('Direct Tauc Plot')\n",
    "plt.show()\n",
    "\n",
    "plt.figure()\n",
    "plt.plot(energy,normalized_indirect_absorbance)\n",
    "plt.xlabel('Energy (eV)')\n",
    "plt.ylabel('Normalized Direct Absorbance')\n",
    "plt.title('Indirect Tauc Plot')\n",
    "plt.show()\n",
    "\n",
    "print('Direct Band Gap (eV): '+str(float(Sample(209139).properties().opt_direct_bandgap)))\n",
    "print('Indirect Band Gap (eV): '+str(float(Sample(209139).properties().opt_indirect_bandgap)))"
   ]
  },
  {
   "cell_type": "markdown",
   "metadata": {},
   "source": [
    "Using the same concepts found in the XRF notebook for plotting changes in concentration, one can generate a heatmap with respect to the direct or indirect band gap."
   ]
  },
  {
   "cell_type": "code",
   "execution_count": null,
   "metadata": {
    "collapsed": true
   },
   "outputs": [],
   "source": [
    "opt_list = []\n",
    "for i in Sample.search_by_ids(list(Library(6701).properties().sample_ids)[0]):\n",
    "    opt_list.append(i.properties()[['position','opt_direct_bandgap','opt_indirect_bandgap']])"
   ]
  },
  {
   "cell_type": "code",
   "execution_count": null,
   "metadata": {
    "collapsed": true
   },
   "outputs": [],
   "source": [
    "opt_positions = [int(i.position) for i in opt_list]\n",
    "opt_direct_bg = [float(i.opt_direct_bandgap) for i in opt_list]"
   ]
  },
  {
   "cell_type": "code",
   "execution_count": null,
   "metadata": {
    "collapsed": false
   },
   "outputs": [],
   "source": [
    "direct_bg_graph = sorted(zip(opt_positions,opt_direct_bg))\n",
    "direct_bg_graph = [i[1] for i in direct_bg_graph]\n",
    "direct_bg_graph_array = np.array(direct_bg_graph).reshape(4,11)\n",
    "f, ax = plt.subplots(figsize=(6, 5))\n",
    "sns.heatmap(direct_bg_graph_array, annot=True, linewidths=.5, ax=ax,cmap = 'viridis')\n",
    "plt.title('Direct Band Gap (eV) Across Library 6701')\n",
    "plt.show()"
   ]
  }
 ],
 "metadata": {
  "kernelspec": {
   "display_name": "Python 2",
   "language": "python",
   "name": "python2"
  },
  "language_info": {
   "codemirror_mode": {
    "name": "ipython",
    "version": 2
   },
   "file_extension": ".py",
   "mimetype": "text/x-python",
   "name": "python",
   "nbconvert_exporter": "python",
   "pygments_lexer": "ipython2",
   "version": "2.7.13"
  }
 },
 "nbformat": 4,
 "nbformat_minor": 2
}
