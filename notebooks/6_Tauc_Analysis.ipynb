{
 "cells": [
  {
   "cell_type": "markdown",
   "metadata": {},
   "source": [
    "### Notebook 6: Tauc Analysis and Plotting\n",
    "This notebook shows how to take optical measurements and x-ray fluorescence measurements to generate direct and indirect Tauc plots. Band gaps are then shown for each of three different methods, including:\n",
    "\n",
    "- The Santosh-Newhouse-Gregoire Method\n",
    "- The Segmentation Method\n",
    "- The Multivariate Adaptive Regression Splines (MARS) Method"
   ]
  },
  {
   "cell_type": "code",
   "execution_count": null,
   "metadata": {
    "collapsed": false
   },
   "outputs": [],
   "source": [
    "import sys\n",
    "import pandas as pd\n",
    "import numpy as np\n",
    "from scipy import signal\n",
    "sys.path.append('../lib')\n",
    "#Note: When working in Windows environments, use:\n",
    "#sys.path.append('..\\lib')\n",
    "from library import Library\n",
    "from sample import Sample\n",
    "import matplotlib.pyplot as plt\n",
    "import pandas as pd\n",
    "import numpy as np\n",
    "import seaborn as sns\n",
    "color = sns.color_palette()\n",
    "\n",
    "%matplotlib inline"
   ]
  },
  {
   "cell_type": "code",
   "execution_count": null,
   "metadata": {
    "collapsed": false
   },
   "outputs": [],
   "source": [
    "#Absorption coefficient\n",
    "optical_spectra = Sample(221101).spectra('optical')\n",
    "uvit = sorted(zip(list(optical_spectra.uvit_wave),list(optical_spectra.uvit_response)))\n",
    "uvir = sorted(zip(list(optical_spectra.uvir_wave),list(optical_spectra.uvir_response)))\n",
    "nirt = sorted(zip(list(optical_spectra.nirt_wave.dropna()),list(optical_spectra.nirt_response.dropna())))\n",
    "nirr = sorted(zip(list(optical_spectra.nirr_wave.dropna()),list(optical_spectra.nirr_response.dropna())))\n",
    "\n",
    "thickness = float(Sample(209139).properties().thickness)\n",
    "transmittance = sorted(uvit+nirt)\n",
    "reflectance = sorted(uvir+nirr)\n",
    "absorption_coefficient = []\n",
    "for i in range(0,len(transmittance)): #Equation for absorption coefficient\n",
    "    absorption_coefficient.append(-1*np.log(abs(transmittance[i][1]/(1-reflectance[i][1])))/float(thickness*10**-4))\n",
    "energy = [1240.0/i[0] for i in transmittance]\n",
    "\n",
    "def calculate_band_gap(energy,absorption_coefficient,bg_type='direct',show_graph=True,method='MARS'):\n",
    "    absorption_coeff_savgol_filt = np.ndarray.tolist(scipy.signal.savgol_filter(absorption_coefficient,25,4))\n",
    "    absorption_y = []\n",
    "    if bg_type == 'direct':\n",
    "        for k in range(0,len(absorption_coeff_savgol_filt)):\n",
    "            absorption_y.append((abs(absorption_coeff_savgol_filt[k])**2.0)*energy[k]**2.0)\n",
    "    elif bg_type == 'indirect':\n",
    "        for k in range(0,len(absorption_coeff_savgol_filt)):\n",
    "            absorption_y.append((abs(absorption_coeff_savgol_filt[k])**.5)*energy[k]**.5)\n",
    "    elif bg_type == 'log10':\n",
    "        for k in range(0,len(absorption_coeff_savgol_filt)):\n",
    "            absorption_y.append(np.log10(abs(absorption_coeff_savgol_filt[k]))-3)\n",
    "    elif bg_type == 'raw_alpha':\n",
    "        for k in range(0,len(absorption_coeff_savgol_filt)):\n",
    "            absorption_y.append(abs(absorption_coeff_savgol_filt[k]))\n",
    "    else:\n",
    "        return 'Not a valid band gap type.'\n",
    "    \n",
    "    if method == 'S-N-G':\n",
    "        return santosh_newhouse_gregoire_method(energy,absorption_y,bg_type,show_graph)\n",
    "    elif method == 'Segmentation':\n",
    "        return segmentation_method(energy,absorption_y,bg_type,show_graph)\n",
    "    elif method == 'MARS':\n",
    "        return mars_method(energy,absorption_y,bg_type,show_graph)\n",
    "    else:\n",
    "        return 'Not a valid band gap methodology.'"
   ]
  },
  {
   "cell_type": "code",
   "execution_count": null,
   "metadata": {
    "collapsed": true
   },
   "outputs": [],
   "source": [
    "def santosh_newhouse_gregoire_method(energy,absorption_coefficient,bg_type ='direct',show_graph=True):\n",
    "    return"
   ]
  },
  {
   "cell_type": "code",
   "execution_count": null,
   "metadata": {
    "collapsed": true
   },
   "outputs": [],
   "source": [
    "def segmentation_method(energy,absorption_coefficient,bg_type ='direct',show_graph=True):\n",
    "    return"
   ]
  },
  {
   "cell_type": "code",
   "execution_count": null,
   "metadata": {
    "collapsed": false
   },
   "outputs": [],
   "source": [
    "def mars_method(energy,absorption_coefficient,bg_type ='direct',show_graph=True):\n",
    "    return"
   ]
  },
  {
   "cell_type": "code",
   "execution_count": null,
   "metadata": {
    "collapsed": true
   },
   "outputs": [],
   "source": []
  }
 ],
 "metadata": {
  "kernelspec": {
   "display_name": "Python 2",
   "language": "python",
   "name": "python2"
  },
  "language_info": {
   "codemirror_mode": {
    "name": "ipython",
    "version": 2
   },
   "file_extension": ".py",
   "mimetype": "text/x-python",
   "name": "python",
   "nbconvert_exporter": "python",
   "pygments_lexer": "ipython2",
   "version": "2.7.13"
  }
 },
 "nbformat": 4,
 "nbformat_minor": 2
}
