{
 "cells": [
  {
   "cell_type": "markdown",
   "metadata": {},
   "source": [
    "## Jupyter Notebooks for HTEM Deposition/Characterization Analysis\n",
    "### Notebook 3: X-Ray Fluorescence: Compositional and Thickness Gradients\n",
    "\n",
    "##### This Jupyter notebook is meant to give a demonstration of how X-Ray Fluorescence may be analyzed within Jupyter Notebooks. Various visualizations are shown to take a number of composition points on a substrate and provide interesting visualizations.\n"
   ]
  },
  {
   "cell_type": "code",
   "execution_count": null,
   "metadata": {
    "collapsed": true
   },
   "outputs": [],
   "source": []
  }
 ],
 "metadata": {
  "kernelspec": {
   "display_name": "Python 2",
   "language": "python",
   "name": "python2"
  },
  "language_info": {
   "codemirror_mode": {
    "name": "ipython",
    "version": 2
   },
   "file_extension": ".py",
   "mimetype": "text/x-python",
   "name": "python",
   "nbconvert_exporter": "python",
   "pygments_lexer": "ipython2",
   "version": "2.7.13"
  }
 },
 "nbformat": 4,
 "nbformat_minor": 2
}
