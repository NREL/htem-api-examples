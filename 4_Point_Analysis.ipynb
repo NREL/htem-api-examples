{
 "cells": [
  {
   "cell_type": "markdown",
   "metadata": {},
   "source": [
    "## Jupyter Notebooks for HTEM Deposition/Characterization Analysis\n",
    "### Notebook 4: Four-Point Mapping: Sheet Resistance and Conductivity\n",
    "\n",
    "##### This Jupyter notebook is meant to give a demonstration of how Four-Point Mapping may be analyzed within Jupyter Notebooks. Sheet resistance and conductivity can be graphed as a function of composition.\n"
   ]
  },
  {
   "cell_type": "code",
   "execution_count": null,
   "metadata": {
    "collapsed": true
   },
   "outputs": [],
   "source": []
  }
 ],
 "metadata": {
  "kernelspec": {
   "display_name": "Python 2",
   "language": "python",
   "name": "python2"
  },
  "language_info": {
   "codemirror_mode": {
    "name": "ipython",
    "version": 2
   },
   "file_extension": ".py",
   "mimetype": "text/x-python",
   "name": "python",
   "nbconvert_exporter": "python",
   "pygments_lexer": "ipython2",
   "version": "2.7.13"
  }
 },
 "nbformat": 4,
 "nbformat_minor": 2
}
